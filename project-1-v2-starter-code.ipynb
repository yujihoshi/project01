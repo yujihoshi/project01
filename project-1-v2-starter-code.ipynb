{
 "cells": [
  {
   "cell_type": "markdown",
   "metadata": {},
   "source": [
    "<img src=\"http://imgur.com/1ZcRyrc.png\" style=\"float: left; margin: 15px; height: 80px\">\n",
    "\n",
    "# Project 1\n",
    "\n",
    "### Building \"Pokemon Stay\"\n",
    "\n",
    "---\n",
    "You are an analyst at a \"scrappy\" online gaming company that specializes in remakes of last year's fads.\n",
    "\n",
    "Your boss, who runs the product development team, is convinced that Pokemon Go's fatal flaw was that you had to actually move around outside. She has design mock-ups for a new game called Pokemon Stay: in this version players still need to move, but just from website to website. Pokemon gyms are now popular online destinations, and catching Pokemon in the \"wild\" simply requires browsing the internet for hours in the comfort of your home.\n",
    "\n",
    "She wants you to program a prototype version of the game, and analyze the planned content to help the team calibrate the design."
   ]
  },
  {
   "cell_type": "markdown",
   "metadata": {},
   "source": [
    "#### Package imports\n",
    "\n",
    "The pprint package below is the only package imported here, and it's not even strictly required to do any of the project. Printing python variables and objects with pprint can help to format them in a \"prettier\" way."
   ]
  },
  {
   "cell_type": "code",
   "execution_count": 1,
   "metadata": {},
   "outputs": [],
   "source": [
    "from pprint import pprint"
   ]
  },
  {
   "cell_type": "markdown",
   "metadata": {},
   "source": [
    "<img src=\"http://imgur.com/l5NasQj.png\" style=\"float: left; margin: 25px 15px 0px 0px; height: 25px\">\n",
    "\n",
    "## 1. Defining a player\n",
    "\n",
    "---\n",
    "\n",
    "The player variables are:\n",
    "\n",
    "    player_id : id code unique to each player (integer)\n",
    "    player_name : entered name of the player (string)\n",
    "    time_played : number of time played the game in minutes (float)\n",
    "    player_pokemon: the player's captured pokemon (dictionary)\n",
    "    gyms_visited: ids of the gyms that a player has visited (list)\n",
    "    \n",
    "Create the components for a player object by defining each of these variables. The dictionary and list variables should just be defined as empty; you can use any (correctly typed) values for the others."
   ]
  },
  {
   "cell_type": "code",
   "execution_count": 2,
   "metadata": {},
   "outputs": [
    {
     "name": "stdout",
     "output_type": "stream",
     "text": [
      "{'player_id': 1, 'player_name': 'Yuji', 'time_played': 60.0, 'player_pokemon': {}, 'gyms_visited': []}\n"
     ]
    }
   ],
   "source": [
    "player_info = {\n",
    "    'player_id': 1,\n",
    "    'player_name': \"Yuji\",\n",
    "    'time_played': 60.0,\n",
    "    'player_pokemon': {},\n",
    "    'gyms_visited': []\n",
    "    }\n",
    "print(player_info)"
   ]
  },
  {
   "cell_type": "markdown",
   "metadata": {},
   "source": [
    "<img src=\"http://imgur.com/l5NasQj.png\" style=\"float: left; margin: 25px 15px 0px 0px; height: 25px\">\n",
    "\n",
    "## 2. Defining \"gym\" locations\n",
    "\n",
    "---\n",
    "\n",
    "As the sole programmer, Pokemon Stay will have to start small. To begin, there will be 10 different gym location websites on the internet. The gym locations are:\n",
    "\n",
    "    1. 'reddit.com'\n",
    "    2. 'amazon.com'\n",
    "    3. 'twitter.com'\n",
    "    4. 'linkedin.com'\n",
    "    5. 'ebay.com'\n",
    "    6. 'netflix.com'\n",
    "    7. 'sporcle.com'\n",
    "    8. 'stackoverflow.com'\n",
    "    9. 'github.com'\n",
    "    10. 'quora.com'\n",
    "\n",
    "1. Set up a list of all the gym locations. This will be a list of strings.\n",
    "2. Append two of these locations to your player's list of visited gyms.\n",
    "3. Print the list."
   ]
  },
  {
   "cell_type": "code",
   "execution_count": 3,
   "metadata": {},
   "outputs": [
    {
     "name": "stdout",
     "output_type": "stream",
     "text": [
      "{'gyms_visited': ['reddit.com', 'amazon.com'],\n",
      " 'player_id': 1,\n",
      " 'player_name': 'Yuji',\n",
      " 'player_pokemon': {},\n",
      " 'time_played': 60.0}\n"
     ]
    }
   ],
   "source": [
    "gym_locations = ['reddit.com', 'amazon.com', 'twitter.com', \n",
    "                 'linkedin.com', 'ebay.com', 'netflix.com', \n",
    "                 'sporcle.com', 'stackoverflow.com',\n",
    "                'github.com', 'quora.com']\n",
    "\n",
    "player_info['gyms_visited'].append(gym_locations[0])\n",
    "player_info['gyms_visited'].append(gym_locations[1])\n",
    "\n",
    "                                    \n",
    "pprint(player_info)"
   ]
  },
  {
   "cell_type": "markdown",
   "metadata": {},
   "source": [
    "<img src=\"http://imgur.com/l5NasQj.png\" style=\"float: left; margin: 25px 15px 0px 0px; height: 25px\">\n",
    "\n",
    "## 3. Create a pokedex\n",
    "\n",
    "---\n",
    "\n",
    "We also need to create some pokemon to catch. Each pokemon will be defined by these variables:\n",
    "\n",
    "    pokemon_id : unique identifier for each pokemon (integer)\n",
    "    name : the name of the pokemon (string)\n",
    "    type : the category of pokemon (string)\n",
    "    hp : base hitpoints (integer)\n",
    "    attack : base attack (integer)\n",
    "    defense : base defense (integer)\n",
    "    special_attack : base special attack (integer)\n",
    "    special_defense : base sepecial defense (integer)\n",
    "    speed : base speed (integer)\n",
    "\n",
    "We are only going to create 3 different pokemon with these `pokemon_id` and `pokemon_name` values:\n",
    "\n",
    "    1 : 'charmander'\n",
    "    2 : 'squirtle'\n",
    "    3 : 'bulbasaur'\n",
    "\n",
    "Create a dictionary that will contain the pokemon. The keys of the dictionary will be the `pokemon_id` and the values will themselves dictionaries that contain the other pokemon variables. The structure of the pokedex dictionary will start like so:\n",
    "     \n",
    "     {\n",
    "         1: {\n",
    "                 'name':'charmander',\n",
    "                 'type':'fire',\n",
    "                 ...\n",
    "                 \n",
    "The `type` of charmander, squirtle, and bulbasaur should be `'fire'`, `'water'`, and `'poison'` respectively. The other values are up to you, make them anything you like!\n",
    "\n",
    "Print (or pretty print) the pokedex dictionary with the 3 pokemon."
   ]
  },
  {
   "cell_type": "code",
   "execution_count": 4,
   "metadata": {},
   "outputs": [
    {
     "name": "stdout",
     "output_type": "stream",
     "text": [
      "{'attack': 12,\n",
      " 'defense': 10,\n",
      " 'hp': 12,\n",
      " 'name': 'charmander',\n",
      " 'special_attack': 12,\n",
      " 'special_defense': 10,\n",
      " 'speed': 8,\n",
      " 'type': 'fire'}\n"
     ]
    }
   ],
   "source": [
    "pokedex = {\n",
    "    1: {\n",
    "            'name': 'charmander',\n",
    "            'type': 'fire',\n",
    "            'hp': 12,\n",
    "            'attack': 12,\n",
    "            'defense': 10,\n",
    "            'special_attack': 12,\n",
    "            'special_defense': 10,\n",
    "            'speed': 8\n",
    "    },\n",
    "    2: {    'name': 'squirtle',\n",
    "            'type': 'water',\n",
    "            'hp': 14,\n",
    "            'attack': 11,\n",
    "            'defense': 13,\n",
    "            'special_attack': 11,\n",
    "            'special_defense': 13,\n",
    "            'speed': 7       \n",
    "    },\n",
    "    3: {    'name': 'bulbasaur',\n",
    "            'type': 'poison',\n",
    "            'hp': 15,\n",
    "            'attack': 10,\n",
    "            'defense': 14,\n",
    "            'special_attack': 10,\n",
    "            'special_defense': 14,\n",
    "            'speed': 7       \n",
    "    }\n",
    "}\n",
    "\n",
    "pprint(pokedex[1])"
   ]
  },
  {
   "cell_type": "markdown",
   "metadata": {},
   "source": [
    "<img src=\"http://imgur.com/l5NasQj.png\" style=\"float: left; margin: 25px 15px 0px 0px; height: 25px\">\n",
    "\n",
    "## 4. Create a data structure for players\n",
    "\n",
    "---\n",
    "\n",
    "### 4.1 \n",
    "\n",
    "In order to maintain a database of multiple players, create a dictionary that keeps track of players indexed by `player_id`. \n",
    "\n",
    "The keys of the dictionary will be `player_id` and values will be dictionaries containing each player's variables (from question 1). \n",
    "\n",
    "Construct the `players` dictionary and insert the player that you defined in question 1, then print `players`."
   ]
  },
  {
   "cell_type": "code",
   "execution_count": 5,
   "metadata": {},
   "outputs": [
    {
     "name": "stdout",
     "output_type": "stream",
     "text": [
      "{1: {'gyms_visited': [],\n",
      "     'player_id': 1,\n",
      "     'player_name': 'Yuji',\n",
      "     'player_pokemon': {},\n",
      "     'time_played': 60.0}}\n"
     ]
    }
   ],
   "source": [
    "players = {\n",
    "    1:{\n",
    "        'player_id': 1,\n",
    "        'player_name': \"Yuji\",\n",
    "        'time_played': 60.0,\n",
    "        'player_pokemon': {},\n",
    "        'gyms_visited': [],\n",
    "    }\n",
    "}\n",
    "\n",
    "pprint(players)"
   ]
  },
  {
   "cell_type": "markdown",
   "metadata": {},
   "source": [
    "---\n",
    "\n",
    "### 4.2\n",
    "\n",
    "Create a new player with `player_id = 2` in the `players` dictionary. Leave the `'player_pokemon'` dictionary empty. Append `'alcatraz'` and `'pacific_beach'` to the `'gyms_visited'` list for player 2.\n",
    "\n",
    "The `'player_name'` and `'time_played'` values are up to you, but must be a string and float, respectively.\n",
    "\n",
    "Remember, the player_id is the key for the player in the players dictionary.\n",
    "\n",
    "Print the `players` dictionary with the new player inserted."
   ]
  },
  {
   "cell_type": "code",
   "execution_count": 6,
   "metadata": {},
   "outputs": [
    {
     "name": "stdout",
     "output_type": "stream",
     "text": [
      "{1: {'player_id': 1, 'player_name': 'Yuji', 'time_played': 60.0, 'player_pokemon': {}, 'gyms_visited': []}, 2: {'player_id': 2, 'player_name': 'Ashley', 'time_played': 40.0, 'player_pokemon': {}, 'gyms_visited': ['alcatraz', 'pacific_beach']}}\n"
     ]
    }
   ],
   "source": [
    "players[2] = {\n",
    "        'player_id': 2,\n",
    "        'player_name': \"Ashley\",\n",
    "        'time_played': 40.0,\n",
    "        'player_pokemon': {},\n",
    "        'gyms_visited': [],\n",
    "    }\n",
    "\n",
    "players[2]['gyms_visited'].append('alcatraz')\n",
    "players[2]['gyms_visited'].append('pacific_beach')\n",
    "\n",
    "print(players)"
   ]
  },
  {
   "cell_type": "markdown",
   "metadata": {},
   "source": [
    "<img src=\"http://imgur.com/l5NasQj.png\" style=\"float: left; margin: 25px 15px 0px 0px; height: 25px\">\n",
    "\n",
    "## 5. Add captured pokemon for each player\n",
    "\n",
    "---\n",
    "\n",
    "The `'player_pokemon'` keyed dictionaries for each player keep track of which of the pokemon each player has.\n",
    "\n",
    "The keys of the `'player_pokemon'` dictionaries are the pokemon ids that correspond to the ids in the `pokedex` dictionary you created earlier. The values are integers specifying the stats for the pokemon.\n",
    "\n",
    "Give player 1 a squirtle. Give player 2 charmander and a bulbasaur.\n",
    "\n",
    "Print the players dictionary after adding the pokemon for each player.\n"
   ]
  },
  {
   "cell_type": "code",
   "execution_count": 7,
   "metadata": {},
   "outputs": [
    {
     "name": "stdout",
     "output_type": "stream",
     "text": [
      "{1: {'name': 'charmander', 'type': 'fire', 'hp': 12, 'attack': 12, 'defense': 10, 'special_attack': 12, 'special_defense': 10, 'speed': 8}, 3: {'name': 'bulbasaur', 'type': 'poison', 'hp': 15, 'attack': 10, 'defense': 14, 'special_attack': 10, 'special_defense': 14, 'speed': 7}}\n"
     ]
    }
   ],
   "source": [
    "players[1]['player_pokemon'] = {2: pokedex[2]}\n",
    "players[2]['player_pokemon'] = {1: pokedex[1], 3: pokedex[3]}\n",
    "\n",
    "print(players[2]['player_pokemon'])"
   ]
  },
  {
   "cell_type": "code",
   "execution_count": 8,
   "metadata": {},
   "outputs": [
    {
     "name": "stdout",
     "output_type": "stream",
     "text": [
      "{1: {'gyms_visited': [],\n",
      "     'player_id': 1,\n",
      "     'player_name': 'Yuji',\n",
      "     'player_pokemon': {2: {'attack': 11,\n",
      "                            'defense': 13,\n",
      "                            'hp': 14,\n",
      "                            'name': 'squirtle',\n",
      "                            'special_attack': 11,\n",
      "                            'special_defense': 13,\n",
      "                            'speed': 7,\n",
      "                            'type': 'water'}},\n",
      "     'time_played': 60.0},\n",
      " 2: {'gyms_visited': ['alcatraz', 'pacific_beach'],\n",
      "     'player_id': 2,\n",
      "     'player_name': 'Ashley',\n",
      "     'player_pokemon': {1: {'attack': 12,\n",
      "                            'defense': 10,\n",
      "                            'hp': 12,\n",
      "                            'name': 'charmander',\n",
      "                            'special_attack': 12,\n",
      "                            'special_defense': 10,\n",
      "                            'speed': 8,\n",
      "                            'type': 'fire'},\n",
      "                        3: {'attack': 10,\n",
      "                            'defense': 14,\n",
      "                            'hp': 15,\n",
      "                            'name': 'bulbasaur',\n",
      "                            'special_attack': 10,\n",
      "                            'special_defense': 14,\n",
      "                            'speed': 7,\n",
      "                            'type': 'poison'}},\n",
      "     'time_played': 40.0}}\n"
     ]
    }
   ],
   "source": [
    "pprint(players)"
   ]
  },
  {
   "cell_type": "markdown",
   "metadata": {},
   "source": [
    "\n",
    "\n",
    "## 6. What gyms have players visited?\n",
    "\n",
    "---\n",
    "<img src=\"http://imgur.com/l5NasQj.png\" style=\"float: left; margin: 25px 15px 0px 0px; height: 25px\">\n",
    "### 6.1\n",
    "\n",
    "Write a for-loop that:\n",
    "\n",
    "1. Iterates through the `pokemon_gyms` list of gym locations you defined before.\n",
    "2. For each gym, iterate through each player in the `players` dictionary with a second, internal for-loop.\n",
    "3. If the player has visited the gym, print out \"[player] has visited [gym location].\", filling in [player] and [gym location] with the current player's name and current gym location."
   ]
  },
  {
   "cell_type": "code",
   "execution_count": 9,
   "metadata": {},
   "outputs": [],
   "source": [
    "players[1]['gyms_visited'].append(gym_locations[0])\n",
    "players[1]['gyms_visited'].append(gym_locations[1])"
   ]
  },
  {
   "cell_type": "code",
   "execution_count": 10,
   "metadata": {},
   "outputs": [
    {
     "name": "stdout",
     "output_type": "stream",
     "text": [
      "Yuji has visited reddit.com\n",
      "Yuji has visited amazon.com\n",
      "20\n"
     ]
    }
   ],
   "source": [
    "count = 0\n",
    "for gym in gym_locations:\n",
    "    for player in players:\n",
    "        count += 1\n",
    "        if gym in players[player]['gyms_visited']:\n",
    "            print(players[player]['player_name'], 'has visited', gym)\n",
    "print(count)"
   ]
  },
  {
   "cell_type": "code",
   "execution_count": 11,
   "metadata": {},
   "outputs": [
    {
     "name": "stdout",
     "output_type": "stream",
     "text": [
      "Yuji has visited reddit.com\n",
      "Yuji has visited amazon.com\n"
     ]
    }
   ],
   "source": [
    "def gyms_player_visited():\n",
    "    [print(players[player]['player_name'], 'has visited', gym) for player in players for gym in gym_locations if gym in players[player]['gyms_visited']]\n",
    "    return\n",
    "    \n",
    "gyms_player_visited()"
   ]
  },
  {
   "cell_type": "markdown",
   "metadata": {},
   "source": [
    "<img src=\"http://imgur.com/xDpSobf.png\" style=\"float: left; margin: 25px 15px 0px 0px; height: 25px\">\n",
    "### 6.2\n",
    "\n",
    "How many times did that loop run? If you have N gyms and also N players, how many times would it run as a function of N?\n",
    "\n",
    "Can you think of a more efficient way to accomplish the same thing? \n",
    "\n",
    "(You can write your answer as Markdown text.)"
   ]
  },
  {
   "cell_type": "code",
   "execution_count": 12,
   "metadata": {},
   "outputs": [
    {
     "name": "stdout",
     "output_type": "stream",
     "text": [
      "Yuji has visited reddit.com\n",
      "Yuji has visited amazon.com\n"
     ]
    }
   ],
   "source": [
    "for player in players:\n",
    "    for gym in players[player]['gyms_visited']:\n",
    "        if gym in gym_locations:\n",
    "            print(players[player]['player_name'], 'has visited', gym)\n",
    "\n"
   ]
  },
  {
   "cell_type": "code",
   "execution_count": 13,
   "metadata": {},
   "outputs": [
    {
     "name": "stdout",
     "output_type": "stream",
     "text": [
      "Yuji has visited reddit.com\n"
     ]
    }
   ],
   "source": [
    "print(players[1]['player_name'], 'has visited', players[1]['gyms_visited'][0])"
   ]
  },
  {
   "cell_type": "code",
   "execution_count": 14,
   "metadata": {},
   "outputs": [
    {
     "name": "stdout",
     "output_type": "stream",
     "text": [
      "Yuji has visited reddit.com\n",
      "Ashley has visited alcatraz\n"
     ]
    },
    {
     "data": {
      "text/plain": [
       "[None, None]"
      ]
     },
     "execution_count": 14,
     "metadata": {},
     "output_type": "execute_result"
    }
   ],
   "source": [
    "[print(players[player]['player_name'], 'has visited', players[player]['gyms_visited'][0]) for player in players]\n",
    "                                                                                                        \n",
    "                                                                                                        "
   ]
  },
  {
   "cell_type": "markdown",
   "metadata": {},
   "source": [
    "<img src=\"http://imgur.com/l5NasQj.png\" style=\"float: left; margin: 25px 15px 0px 0px; height: 25px\">\n",
    "\n",
    "## 7. Calculate player \"power\".\n",
    "\n",
    "---\n",
    "\n",
    "Define a function that will calculate a player's \"power\". Player power is defined as the sum of the base statistics all of their pokemon.\n",
    "\n",
    "Your function will:\n",
    "\n",
    "1. Accept the `players` dictionary, `pokedex` dictionary, and a player_id as arguments.\n",
    "2. For the specified player_id, look up that player's pokemon and their level(s).\n",
    "3. Find and aggregate the attack and defense values for each of the player's pokemon from the `pokedex` dictionary.\n",
    "4. Print \"[player name]'s power is [player power].\", where the player power is the sum of the base statistics for all of their pokemon.\n",
    "5. Return the player's power value.\n",
    "\n",
    "Print out the pokemon power for each of your players."
   ]
  },
  {
   "cell_type": "code",
   "execution_count": 15,
   "metadata": {},
   "outputs": [],
   "source": [
    "def power(players, pokedex, player_id):\n",
    "    power = 0\n",
    "    for key in players[player_id]['player_pokemon']:\n",
    "        pokemon_power = 0\n",
    "        pokemon_power +=(pokedex[key]['hp'])\n",
    "        pokemon_power +=(pokedex[key]['attack'])\n",
    "        pokemon_power +=(pokedex[key]['defense'])\n",
    "        pokemon_power +=(pokedex[key]['special_attack'])\n",
    "        pokemon_power +=(pokedex[key]['special_defense'])\n",
    "        pokemon_power +=(pokedex[key]['speed'])        \n",
    "        print(pokemon_power)\n",
    "        power += pokemon_power\n",
    "    return(str(players[player_id]['player_name'])+\"'s power is \"+str(power))\n"
   ]
  },
  {
   "cell_type": "code",
   "execution_count": 16,
   "metadata": {},
   "outputs": [
    {
     "name": "stdout",
     "output_type": "stream",
     "text": [
      "64\n",
      "70\n"
     ]
    },
    {
     "data": {
      "text/plain": [
       "\"Ashley's power is 134\""
      ]
     },
     "execution_count": 16,
     "metadata": {},
     "output_type": "execute_result"
    }
   ],
   "source": [
    "power(players,pokedex,2)"
   ]
  },
  {
   "cell_type": "markdown",
   "metadata": {
    "collapsed": true
   },
   "source": [
    "<img src=\"http://imgur.com/l5NasQj.png\" style=\"float: left; margin: 25px 15px 0px 0px; height: 25px\">\n",
    "\n",
    "## 8. Load a pokedex file containing all the pokemon\n",
    "\n",
    "---\n",
    "\n",
    "### 8.1\n",
    "\n",
    "While you were putting together the prototype code, your colleagues were preparing a dataset of Pokemon and their attributes. (This was a rush job, so they may have picked some crazy values for some...)\n",
    "\n",
    "The code below loads information from a comma separated value (csv) file. You need to parse this string into a more useable format. The format of the string is:\n",
    "\n",
    "- Rows are separated by newline characters: \\n\n",
    "- Columns are separated by commas: ,\n",
    "- All cells in the csv are double quoted. Ex: \"PokedexNumber\" is the first cell of the first row.\n",
    "\n",
    "\n",
    "Using for-loops, create a list of lists where each list within the overall list is a row of the csv/matrix, and each element in that list is a cell in that row. Additional criteria:\n",
    "\n",
    "1. Quotes are removed from each cell item.\n",
    "2. Numeric column values are converted to floats.\n",
    "3. There are some cells that are empty and have no information. For these cells put a -1 value in place.\n",
    "\n",
    "Your end result is effectively a matrix. Each list in the outer list is a row, and the *j*th elements of list together form the *j*th column, which represents a data attribute. The first three lists in your pokedex list should look like this:\n",
    "\n",
    "    ['PokedexNumber', 'Name', 'Type', 'Total', 'HP', 'Attack', 'Defense', 'SpecialAttack', 'SpecialDefense', 'Speed']\n",
    "    [1.0, 'Bulbasaur', 'GrassPoison', 318.0, 45.0, 49.0, 49.0, 65.0, 65.0, 45.0]\n",
    "    [2.0, 'Ivysaur', 'GrassPoison', 405.0, 60.0, 62.0, 63.0, 80.0, 80.0, 60.0]"
   ]
  },
  {
   "cell_type": "code",
   "execution_count": 17,
   "metadata": {},
   "outputs": [],
   "source": [
    "# Code to read in pokedex info\n",
    "raw_pd = ''\n",
    "pokedex_file = 'pokedex_basic.csv'\n",
    "with open(pokedex_file, 'r') as f:\n",
    "    raw_pd = f.read()\n",
    "    \n",
    "# the pokedex string is assigned to the raw_pd variable"
   ]
  },
  {
   "cell_type": "code",
   "execution_count": 18,
   "metadata": {},
   "outputs": [],
   "source": [
    "raw_pd = raw_pd.replace('\"',\"\")"
   ]
  },
  {
   "cell_type": "code",
   "execution_count": 19,
   "metadata": {},
   "outputs": [],
   "source": [
    "clean1 = raw_pd.splitlines()\n"
   ]
  },
  {
   "cell_type": "code",
   "execution_count": 20,
   "metadata": {},
   "outputs": [
    {
     "data": {
      "text/plain": [
       "['PokedexNumber,Name,Type,Total,HP,Attack,Defense,SpecialAttack,SpecialDefense,Speed',\n",
       " '001,Bulbasaur,GrassPoison,318,45,49,49,65,65,45',\n",
       " '002,Ivysaur,GrassPoison,405,60,62,63,80,80,60',\n",
       " '003,Venusaur,GrassPoison,525,80,82,83,100,100,80',\n",
       " '003,VenusaurMega Venusaur,GrassPoison,625,80,100,123,122,120,80']"
      ]
     },
     "execution_count": 20,
     "metadata": {},
     "output_type": "execute_result"
    }
   ],
   "source": [
    "clean1[:5]"
   ]
  },
  {
   "cell_type": "code",
   "execution_count": 21,
   "metadata": {},
   "outputs": [],
   "source": [
    "clean2 = [clean1[i].split(',') for i,cell in enumerate(clean1)]\n"
   ]
  },
  {
   "cell_type": "code",
   "execution_count": 22,
   "metadata": {},
   "outputs": [
    {
     "name": "stdout",
     "output_type": "stream",
     "text": [
      "[['PokedexNumber',\n",
      "  'Name',\n",
      "  'Type',\n",
      "  'Total',\n",
      "  'HP',\n",
      "  'Attack',\n",
      "  'Defense',\n",
      "  'SpecialAttack',\n",
      "  'SpecialDefense',\n",
      "  'Speed'],\n",
      " ['001', 'Bulbasaur', 'GrassPoison', '318', '45', '49', '49', '65', '65', '45'],\n",
      " ['002', 'Ivysaur', 'GrassPoison', '405', '60', '62', '63', '80', '80', '60'],\n",
      " ['003',\n",
      "  'Venusaur',\n",
      "  'GrassPoison',\n",
      "  '525',\n",
      "  '80',\n",
      "  '82',\n",
      "  '83',\n",
      "  '100',\n",
      "  '100',\n",
      "  '80'],\n",
      " ['003',\n",
      "  'VenusaurMega Venusaur',\n",
      "  'GrassPoison',\n",
      "  '625',\n",
      "  '80',\n",
      "  '100',\n",
      "  '123',\n",
      "  '122',\n",
      "  '120',\n",
      "  '80']]\n"
     ]
    }
   ],
   "source": [
    "pprint(clean2[:5])"
   ]
  },
  {
   "cell_type": "code",
   "execution_count": 23,
   "metadata": {},
   "outputs": [],
   "source": [
    "header = clean2[0]\n",
    "data = clean2[1:]"
   ]
  },
  {
   "cell_type": "code",
   "execution_count": 24,
   "metadata": {},
   "outputs": [],
   "source": [
    "for y,cell in enumerate(data):\n",
    "    for x,cell in enumerate(data[y]):\n",
    "        try:\n",
    "                data[y][x] = float(data[y][x])\n",
    "        except ValueError:\n",
    "                data[y][x] = data[y][x]"
   ]
  },
  {
   "cell_type": "code",
   "execution_count": 26,
   "metadata": {},
   "outputs": [
    {
     "name": "stdout",
     "output_type": "stream",
     "text": [
      "[[1.0, 'Bulbasaur', 'GrassPoison', 318.0, 45.0, 49.0, 49.0, 65.0, 65.0, 45.0],\n",
      " [2.0, 'Ivysaur', 'GrassPoison', 405.0, 60.0, 62.0, 63.0, 80.0, 80.0, 60.0],\n",
      " [3.0, 'Venusaur', 'GrassPoison', 525.0, 80.0, 82.0, 83.0, 100.0, 100.0, 80.0],\n",
      " [3.0,\n",
      "  'VenusaurMega Venusaur',\n",
      "  'GrassPoison',\n",
      "  625.0,\n",
      "  80.0,\n",
      "  100.0,\n",
      "  123.0,\n",
      "  122.0,\n",
      "  120.0,\n",
      "  80.0],\n",
      " [4.0, 'Charmander', 'Fire', 309.0, 39.0, 52.0, 43.0, 60.0, 50.0, 65.0]]\n"
     ]
    }
   ],
   "source": [
    "pprint(data[:5])"
   ]
  },
  {
   "cell_type": "markdown",
   "metadata": {},
   "source": [
    "<img src=\"http://imgur.com/xDpSobf.png\" style=\"float: left; margin: 25px 15px 0px 0px; height: 25px\">\n",
    "\n",
    "### 8.2 Parse the raw pokedex with list comprehensions\n",
    "\n",
    "---\n",
    "\n",
    "Perform the same parsing as above, but **using only a single list comprehension** instead of for loops. You may have nested list comprehensions within the main list comprehension! The output should be exactly the same."
   ]
  },
  {
   "cell_type": "code",
   "execution_count": 28,
   "metadata": {},
   "outputs": [
    {
     "data": {
      "text/plain": [
       "[['001',\n",
       "  'Bulbasaur',\n",
       "  'GrassPoison',\n",
       "  '318',\n",
       "  '45',\n",
       "  '49',\n",
       "  '49',\n",
       "  '65',\n",
       "  '65',\n",
       "  '45'],\n",
       " ['002', 'Ivysaur', 'GrassPoison', '405', '60', '62', '63', '80', '80', '60'],\n",
       " ['003',\n",
       "  'Venusaur',\n",
       "  'GrassPoison',\n",
       "  '525',\n",
       "  '80',\n",
       "  '82',\n",
       "  '83',\n",
       "  '100',\n",
       "  '100',\n",
       "  '80'],\n",
       " ['003',\n",
       "  'VenusaurMega Venusaur',\n",
       "  'GrassPoison',\n",
       "  '625',\n",
       "  '80',\n",
       "  '100',\n",
       "  '123',\n",
       "  '122',\n",
       "  '120',\n",
       "  '80'],\n",
       " ['004', 'Charmander', 'Fire', '309', '39', '52', '43', '60', '50', '65']]"
      ]
     },
     "execution_count": 28,
     "metadata": {},
     "output_type": "execute_result"
    }
   ],
   "source": [
    "x = raw_pd.replace('\"',\"\").splitlines()\n",
    "[x[i].split(',') for i,cell in enumerate(x)][1:6]"
   ]
  },
  {
   "cell_type": "code",
   "execution_count": 29,
   "metadata": {},
   "outputs": [
    {
     "data": {
      "text/plain": [
       "[1.0, 318.0, 45.0, 49.0, 49.0, 65.0, 65.0, 45.0]"
      ]
     },
     "execution_count": 29,
     "metadata": {},
     "output_type": "execute_result"
    }
   ],
   "source": [
    "[float([x[i].split(',') for i,cell in enumerate(x)][1:][0][y]) for y in [0,3,4,5,6,7,8,9]]"
   ]
  },
  {
   "cell_type": "markdown",
   "metadata": {},
   "source": [
    "<img src=\"http://imgur.com/l5NasQj.png\" style=\"float: left; margin: 25px 15px 0px 0px; height: 25px\">\n",
    "\n",
    "## 9. Write a function to generate the full pokedex\n",
    "\n",
    "---\n",
    "\n",
    "Write a function that recreates the pokedex you made before, but with the data read in from the full pokemon file. The `PokedexNumber` should be used as the `pokemon_id` key values for the dictionary of pokemon.\n",
    "\n",
    "Your function should:\n",
    "\n",
    "1. Take the parsed pokedex information you created above as an argument.\n",
    "2. Return a dictionary in the same format as your original pokedex you created before containing the information from the parsed full pokedex file.\n",
    "\n",
    "To test the function, print out the pokemon with id = 100."
   ]
  },
  {
   "cell_type": "code",
   "execution_count": 30,
   "metadata": {},
   "outputs": [],
   "source": [
    "pokedex = {data[pokemon][0]:{'name': data[pokemon][1],\n",
    "                            'type': data[pokemon][2],\n",
    "                            'total': data[pokemon][3],\n",
    "                            'hp': data[pokemon][4],\n",
    "                            'attack': data[pokemon][5],\n",
    "                            'defense': data[pokemon][6],\n",
    "                            'special_attack': data[pokemon][7],\n",
    "                            'special_defense': data[pokemon][8],\n",
    "                            'speed': data[pokemon][9]\n",
    "                             } \n",
    "            for pokemon,cell in enumerate(data)}"
   ]
  },
  {
   "cell_type": "code",
   "execution_count": 32,
   "metadata": {},
   "outputs": [
    {
     "name": "stdout",
     "output_type": "stream",
     "text": [
      "{'attack': 30.0,\n",
      " 'defense': 50.0,\n",
      " 'hp': 40.0,\n",
      " 'name': 'Voltorb',\n",
      " 'special_attack': 55.0,\n",
      " 'special_defense': 55.0,\n",
      " 'speed': 100.0,\n",
      " 'total': 330.0,\n",
      " 'type': 'Electric'}\n"
     ]
    }
   ],
   "source": [
    "pprint(pokedex[100])"
   ]
  },
  {
   "cell_type": "markdown",
   "metadata": {},
   "source": [
    "<img src=\"http://i.imgur.com/GCAf1UX.png\" style=\"float: left; margin: 25px 15px 0px 0px; height: 25px\">\n",
    "\n",
    "## 10. Write a function to generate a \"filtered\" pokedex\n",
    "---\n",
    "Your function should:\n",
    "1. Take the parsed pokedex information you created above as an argument.\n",
    "1. Take a dictionary as a parameter with keys matching the features of the Pokedex, filtering by exact match for string type values, and/or filter continuous variables specified value that is greater than or equal to the dictionary key parameter.\n",
    "1. Return multiple elements from the Pokedex\n",
    "\n",
    "Example:\n",
    "\n",
    "```python\n",
    "\n",
    "# Only filter based on parameters passed\n",
    "filter_options = {\n",
    "    'Attack':   25,\n",
    "    'Defense':  30,\n",
    "    'Type':     'Electric'\n",
    "}\n",
    "\n",
    "# Return records with attack >= 24, defense >= 30, and type == \"Electric\"\n",
    "# Also anticipate that other paramters can also be passed such as \"SpecialAttack\", \"Speed\", etc.\n",
    "filtered_pokedex(pokedex_data, filter=filter_options)\n",
    "\n",
    "# Example output:\n",
    "# [{'Attack': 30.0,\n",
    "#  'Defense': 50.0,\n",
    "#  'HP': 40.0,\n",
    "#  'Name': 'Voltorb',\n",
    "#  'SpecialAttack': 55.0,\n",
    "#  'SpecialDefense': 55.0,\n",
    "#  'Speed': 100.0,\n",
    "#  'Total': 330.0,\n",
    "#  'Type': 'Electric'},\n",
    "#  {'Attack': 30.0,\n",
    "#  'Defense': 33.0,\n",
    "#  'HP': 32.0,\n",
    "#  'Name': 'Pikachu',\n",
    "#  'SpecialAttack': 55.0,\n",
    "#  'SpecialDefense': 55.0,\n",
    "#  'Speed': 100.0,\n",
    "#  'Total': 330.0,\n",
    "#  'Type': 'Electric'},\n",
    "#  ... etc\n",
    "#  ]\n",
    "\n",
    "```\n",
    "\n"
   ]
  },
  {
   "cell_type": "code",
   "execution_count": 33,
   "metadata": {},
   "outputs": [],
   "source": [
    "filter_options = {\n",
    "    'type': 'Electric',\n",
    "    'attack': 25,\n",
    "    'defense': 30\n",
    "}"
   ]
  },
  {
   "cell_type": "code",
   "execution_count": 34,
   "metadata": {},
   "outputs": [],
   "source": [
    "def name_check(pokemon, pokedex_data, filter = filter_options):\n",
    "    if 'name' in filter_options.keys():\n",
    "        return pokedex[pokemon]['name'] == filter_options['name']\n",
    "    else: return True\n",
    "\n",
    "def type_check(pokemon, pokedex_data, filter = filter_options):\n",
    "    if 'type' in filter_options.keys():\n",
    "        return pokedex[pokemon]['type'] == filter_options['type']\n",
    "    else: return True\n",
    "\n",
    "def hp_check(pokemon, pokedex_data, filter = filter_options):\n",
    "    if 'hp' in filter_options.keys():\n",
    "        return pokedex[pokemon]['hp'] >= filter_options['hp']\n",
    "    else: return True\n",
    "\n",
    "def attack_check(pokemon, pokedex_data, filter = filter_options):\n",
    "    if 'attack' in filter_options.keys():\n",
    "        return pokedex[pokemon]['attack'] >= filter_options['attack']\n",
    "    else: return True\n",
    "\n",
    "def defense_check(pokemon, pokedex_data, filter = filter_options):\n",
    "    if 'defense' in filter_options.keys():\n",
    "        return pokedex[pokemon]['defense'] >= filter_options['defense']\n",
    "    else: return True\n",
    "\n",
    "def sa_check(pokemon, pokedex_data, filter = filter_options):\n",
    "    if 'special_attack' in filter_options.keys():\n",
    "        return pokedex[pokemon]['special_attack'] >= filter_options['special_attack']\n",
    "    else: return True\n",
    "\n",
    "def sd_check(pokemon, pokedex_data, filter = filter_options):\n",
    "    if 'special_defense' in filter_options.keys():\n",
    "        return pokedex[pokemon]['special_defense'] >= filter_options['special_defense']\n",
    "    else: return True\n",
    "\n",
    "def speed_check(pokemon, pokedex_data, filter = filter_options):\n",
    "    if 'speed' in filter_options.keys():\n",
    "        return pokedex[pokemon]['speed'] >= filter_options['speed']\n",
    "    else: return True"
   ]
  },
  {
   "cell_type": "code",
   "execution_count": 35,
   "metadata": {},
   "outputs": [],
   "source": [
    "def filtered_pokedex(pokedex_data, filter = filter_options):\n",
    "    filtered_list = [pokedex_data[pokemon] for pokemon in pokedex_data if (\n",
    "                     name_check(pokemon,pokedex_data,filter = filter_options) and \n",
    "                     type_check(pokemon,pokedex_data,filter = filter_options) and \n",
    "                     hp_check(pokemon,pokedex_data,filter = filter_options) and \n",
    "                     attack_check(pokemon,pokedex_data,filter = filter_options) and \n",
    "                     defense_check(pokemon,pokedex_data,filter = filter_options) and \n",
    "                     sa_check(pokemon,pokedex_data,filter = filter_options) and \n",
    "                     sd_check(pokemon,pokedex_data,filter = filter_options) and \n",
    "                     speed_check(pokemon,pokedex_data,filter = filter_options)                    )\n",
    "                    ]\n",
    "    return filtered_list\n",
    "    "
   ]
  },
  {
   "cell_type": "code",
   "execution_count": 36,
   "metadata": {},
   "outputs": [
    {
     "data": {
      "text/plain": [
       "[{'name': 'Pikachu',\n",
       "  'type': 'Electric',\n",
       "  'total': 320.0,\n",
       "  'hp': 35.0,\n",
       "  'attack': 55.0,\n",
       "  'defense': 40.0,\n",
       "  'special_attack': 50.0,\n",
       "  'special_defense': 50.0,\n",
       "  'speed': 90.0},\n",
       " {'name': 'Raichu',\n",
       "  'type': 'Electric',\n",
       "  'total': 485.0,\n",
       "  'hp': 60.0,\n",
       "  'attack': 90.0,\n",
       "  'defense': 55.0,\n",
       "  'special_attack': 90.0,\n",
       "  'special_defense': 80.0,\n",
       "  'speed': 110.0},\n",
       " {'name': 'Voltorb',\n",
       "  'type': 'Electric',\n",
       "  'total': 330.0,\n",
       "  'hp': 40.0,\n",
       "  'attack': 30.0,\n",
       "  'defense': 50.0,\n",
       "  'special_attack': 55.0,\n",
       "  'special_defense': 55.0,\n",
       "  'speed': 100.0},\n",
       " {'name': 'Electrode',\n",
       "  'type': 'Electric',\n",
       "  'total': 480.0,\n",
       "  'hp': 60.0,\n",
       "  'attack': 50.0,\n",
       "  'defense': 70.0,\n",
       "  'special_attack': 80.0,\n",
       "  'special_defense': 80.0,\n",
       "  'speed': 140.0},\n",
       " {'name': 'Electabuzz',\n",
       "  'type': 'Electric',\n",
       "  'total': 490.0,\n",
       "  'hp': 65.0,\n",
       "  'attack': 83.0,\n",
       "  'defense': 57.0,\n",
       "  'special_attack': 95.0,\n",
       "  'special_defense': 85.0,\n",
       "  'speed': 105.0},\n",
       " {'name': 'Jolteon',\n",
       "  'type': 'Electric',\n",
       "  'total': 525.0,\n",
       "  'hp': 65.0,\n",
       "  'attack': 65.0,\n",
       "  'defense': 60.0,\n",
       "  'special_attack': 110.0,\n",
       "  'special_defense': 95.0,\n",
       "  'speed': 130.0},\n",
       " {'name': 'Mareep',\n",
       "  'type': 'Electric',\n",
       "  'total': 280.0,\n",
       "  'hp': 55.0,\n",
       "  'attack': 40.0,\n",
       "  'defense': 40.0,\n",
       "  'special_attack': 65.0,\n",
       "  'special_defense': 45.0,\n",
       "  'speed': 35.0},\n",
       " {'name': 'Flaaffy',\n",
       "  'type': 'Electric',\n",
       "  'total': 365.0,\n",
       "  'hp': 70.0,\n",
       "  'attack': 55.0,\n",
       "  'defense': 55.0,\n",
       "  'special_attack': 80.0,\n",
       "  'special_defense': 60.0,\n",
       "  'speed': 45.0},\n",
       " {'name': 'Elekid',\n",
       "  'type': 'Electric',\n",
       "  'total': 360.0,\n",
       "  'hp': 45.0,\n",
       "  'attack': 63.0,\n",
       "  'defense': 37.0,\n",
       "  'special_attack': 65.0,\n",
       "  'special_defense': 55.0,\n",
       "  'speed': 95.0},\n",
       " {'name': 'Raikou',\n",
       "  'type': 'Electric',\n",
       "  'total': 580.0,\n",
       "  'hp': 90.0,\n",
       "  'attack': 85.0,\n",
       "  'defense': 75.0,\n",
       "  'special_attack': 115.0,\n",
       "  'special_defense': 100.0,\n",
       "  'speed': 115.0},\n",
       " {'name': 'Electrike',\n",
       "  'type': 'Electric',\n",
       "  'total': 295.0,\n",
       "  'hp': 40.0,\n",
       "  'attack': 45.0,\n",
       "  'defense': 40.0,\n",
       "  'special_attack': 65.0,\n",
       "  'special_defense': 40.0,\n",
       "  'speed': 65.0},\n",
       " {'name': 'ManectricMega Manectric',\n",
       "  'type': 'Electric',\n",
       "  'total': 575.0,\n",
       "  'hp': 70.0,\n",
       "  'attack': 75.0,\n",
       "  'defense': 80.0,\n",
       "  'special_attack': 135.0,\n",
       "  'special_defense': 80.0,\n",
       "  'speed': 135.0},\n",
       " {'name': 'Plusle',\n",
       "  'type': 'Electric',\n",
       "  'total': 405.0,\n",
       "  'hp': 60.0,\n",
       "  'attack': 50.0,\n",
       "  'defense': 40.0,\n",
       "  'special_attack': 85.0,\n",
       "  'special_defense': 75.0,\n",
       "  'speed': 95.0},\n",
       " {'name': 'Minun',\n",
       "  'type': 'Electric',\n",
       "  'total': 405.0,\n",
       "  'hp': 60.0,\n",
       "  'attack': 40.0,\n",
       "  'defense': 50.0,\n",
       "  'special_attack': 75.0,\n",
       "  'special_defense': 85.0,\n",
       "  'speed': 95.0},\n",
       " {'name': 'Shinx',\n",
       "  'type': 'Electric',\n",
       "  'total': 263.0,\n",
       "  'hp': 45.0,\n",
       "  'attack': 65.0,\n",
       "  'defense': 34.0,\n",
       "  'special_attack': 40.0,\n",
       "  'special_defense': 34.0,\n",
       "  'speed': 45.0},\n",
       " {'name': 'Luxio',\n",
       "  'type': 'Electric',\n",
       "  'total': 363.0,\n",
       "  'hp': 60.0,\n",
       "  'attack': 85.0,\n",
       "  'defense': 49.0,\n",
       "  'special_attack': 60.0,\n",
       "  'special_defense': 49.0,\n",
       "  'speed': 60.0},\n",
       " {'name': 'Luxray',\n",
       "  'type': 'Electric',\n",
       "  'total': 523.0,\n",
       "  'hp': 80.0,\n",
       "  'attack': 120.0,\n",
       "  'defense': 79.0,\n",
       "  'special_attack': 95.0,\n",
       "  'special_defense': 79.0,\n",
       "  'speed': 70.0},\n",
       " {'name': 'Pachirisu',\n",
       "  'type': 'Electric',\n",
       "  'total': 405.0,\n",
       "  'hp': 60.0,\n",
       "  'attack': 45.0,\n",
       "  'defense': 70.0,\n",
       "  'special_attack': 45.0,\n",
       "  'special_defense': 90.0,\n",
       "  'speed': 95.0},\n",
       " {'name': 'Electivire',\n",
       "  'type': 'Electric',\n",
       "  'total': 540.0,\n",
       "  'hp': 75.0,\n",
       "  'attack': 123.0,\n",
       "  'defense': 67.0,\n",
       "  'special_attack': 95.0,\n",
       "  'special_defense': 85.0,\n",
       "  'speed': 95.0},\n",
       " {'name': 'Blitzle',\n",
       "  'type': 'Electric',\n",
       "  'total': 295.0,\n",
       "  'hp': 45.0,\n",
       "  'attack': 60.0,\n",
       "  'defense': 32.0,\n",
       "  'special_attack': 50.0,\n",
       "  'special_defense': 32.0,\n",
       "  'speed': 76.0},\n",
       " {'name': 'Zebstrika',\n",
       "  'type': 'Electric',\n",
       "  'total': 497.0,\n",
       "  'hp': 75.0,\n",
       "  'attack': 100.0,\n",
       "  'defense': 63.0,\n",
       "  'special_attack': 80.0,\n",
       "  'special_defense': 63.0,\n",
       "  'speed': 116.0},\n",
       " {'name': 'Tynamo',\n",
       "  'type': 'Electric',\n",
       "  'total': 275.0,\n",
       "  'hp': 35.0,\n",
       "  'attack': 55.0,\n",
       "  'defense': 40.0,\n",
       "  'special_attack': 45.0,\n",
       "  'special_defense': 40.0,\n",
       "  'speed': 60.0},\n",
       " {'name': 'Eelektrik',\n",
       "  'type': 'Electric',\n",
       "  'total': 405.0,\n",
       "  'hp': 65.0,\n",
       "  'attack': 85.0,\n",
       "  'defense': 70.0,\n",
       "  'special_attack': 75.0,\n",
       "  'special_defense': 70.0,\n",
       "  'speed': 40.0},\n",
       " {'name': 'Eelektross',\n",
       "  'type': 'Electric',\n",
       "  'total': 515.0,\n",
       "  'hp': 85.0,\n",
       "  'attack': 115.0,\n",
       "  'defense': 80.0,\n",
       "  'special_attack': 105.0,\n",
       "  'special_defense': 80.0,\n",
       "  'speed': 50.0}]"
      ]
     },
     "execution_count": 36,
     "metadata": {},
     "output_type": "execute_result"
    }
   ],
   "source": [
    "filtered_pokedex(pokedex)"
   ]
  },
  {
   "cell_type": "markdown",
   "metadata": {
    "collapsed": true
   },
   "source": [
    "\n",
    "## 9. Descriptive statistics on the prototype pokedex\n",
    "\n",
    "<img src=\"http://imgur.com/l5NasQj.png\" style=\"float: left; margin: 25px 15px 0px 0px; height: 25px\">\n",
    "### 9.1\n",
    "\n",
    "What is the population mean and standard deviation of the \"Total\" attribute for all characters in the Pokedex?\n",
    "\n"
   ]
  },
  {
   "cell_type": "code",
   "execution_count": 37,
   "metadata": {},
   "outputs": [
    {
     "name": "stdout",
     "output_type": "stream",
     "text": [
      "424.9500693481276\n",
      "118.71177581751657\n"
     ]
    }
   ],
   "source": [
    "import numpy as np\n",
    "total_list = [pokedex[pokemon]['total'] for pokemon in pokedex]\n",
    "total_mean = np.mean(total_list)\n",
    "total_std = np.std(total_list)\n",
    "print(total_mean)\n",
    "print(total_std)"
   ]
  },
  {
   "cell_type": "markdown",
   "metadata": {},
   "source": [
    "<img src=\"http://imgur.com/l5NasQj.png\" style=\"float: left; margin: 25px 15px 0px 0px; height: 25px\">\n",
    "### 9.2\n",
    "\n",
    "The game is no fun if the characters are wildly unbalanced! Are any characters \"overpowered\", which we'll define as having a \"Total\" more than three standard deviations from the population mean?"
   ]
  },
  {
   "cell_type": "code",
   "execution_count": 38,
   "metadata": {},
   "outputs": [
    {
     "name": "stdout",
     "output_type": "stream",
     "text": [
      "781.0853968006772\n",
      "780.0\n"
     ]
    },
    {
     "data": {
      "text/plain": [
       "[]"
      ]
     },
     "execution_count": 38,
     "metadata": {},
     "output_type": "execute_result"
    }
   ],
   "source": [
    "overpowered = [pokedex[pokemon] for pokemon in pokedex if pokedex[pokemon]['total'] > (total_mean)+3*(total_std)]\n",
    "print(total_mean+3*total_std)\n",
    "print(max(total_list))\n",
    "overpowered\n",
    "#No overpowered pokemons"
   ]
  },
  {
   "cell_type": "markdown",
   "metadata": {},
   "source": [
    "<img src=\"http://imgur.com/xDpSobf.png\" style=\"float: left; margin: 25px 15px 0px 0px; height: 25px\">\n",
    "\n",
    "## 10. Calibrate the frequency of Pokemon\n",
    "\n",
    "The design team wants you to make the powerful Pokemon rare, and the weaklings more common. How would you set the probability $p_i$ of finding Pokemon *i* each time a player visits a gym?\n",
    "\n",
    "Write a function that takes in a Pokedex number and returns a value $p_i$ for that character.\n",
    "\n",
    "Hint: there are many ways you could do this. What do _you_ think makes sense? Start with simplifying assumptions: for example, you could assume that the probabilities of encountering any two Pokemon on one visit to a gym are independent of each other."
   ]
  },
  {
   "cell_type": "code",
   "execution_count": 39,
   "metadata": {},
   "outputs": [],
   "source": [
    "import numpy as np\n",
    "def pokemon_probability(pokemon,pokedex_data):   \n",
    "    total_list = [pokedex_data[pokemon]['total'] for pokemon in pokedex]\n",
    "    total_mean = np.mean(total_list)\n",
    "    total_std = np.std(total_list)\n",
    "    total_sum = np.sum(total_list)\n",
    "    return (2*total_mean-pokedex_data[pokemon]['total'])/total_sum"
   ]
  },
  {
   "cell_type": "code",
   "execution_count": 40,
   "metadata": {},
   "outputs": [
    {
     "data": {
      "text/plain": [
       "0.0017360288349002582"
      ]
     },
     "execution_count": 40,
     "metadata": {},
     "output_type": "execute_result"
    }
   ],
   "source": [
    "pokemon_probability(1.0,pokedex)"
   ]
  },
  {
   "cell_type": "code",
   "execution_count": 41,
   "metadata": {},
   "outputs": [
    {
     "data": {
      "text/plain": [
       "1.0000000000000004"
      ]
     },
     "execution_count": 41,
     "metadata": {},
     "output_type": "execute_result"
    }
   ],
   "source": [
    "#Check that sum of all probabilities is 100%.\n",
    "probabilities = 0\n",
    "for i,cell in enumerate(pokedex,1):\n",
    "    probabilities += pokemon_probability(i,pokedex)\n",
    "probabilities"
   ]
  },
  {
   "cell_type": "code",
   "execution_count": null,
   "metadata": {},
   "outputs": [],
   "source": []
  }
 ],
 "metadata": {
  "anaconda-cloud": {},
  "kernelspec": {
   "display_name": "Python 3",
   "language": "python",
   "name": "python3"
  },
  "language_info": {
   "codemirror_mode": {
    "name": "ipython",
    "version": 3
   },
   "file_extension": ".py",
   "mimetype": "text/x-python",
   "name": "python",
   "nbconvert_exporter": "python",
   "pygments_lexer": "ipython3",
   "version": "3.6.8"
  }
 },
 "nbformat": 4,
 "nbformat_minor": 1
}
